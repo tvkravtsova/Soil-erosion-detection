{
  "cells": [
    {
      "cell_type": "code",
      "execution_count": 20,
      "id": "7bcdf7c7",
      "metadata": {
        "colab": {
          "base_uri": "https://localhost:8080/"
        },
        "id": "7bcdf7c7",
        "outputId": "e773ccca-e26f-4295-ff95-f5edd28e6373"
      },
      "outputs": [
        {
          "output_type": "stream",
          "name": "stdout",
          "text": [
            "Enter the value of N: 14786\n",
            "Sum of numbers from 1 to 14786 is 109320291\n"
          ]
        }
      ],
      "source": [
        "# Task 1\n",
        "# You have a positive integer number N as an input. Please write a program in Python 3 that calculates the sum in range 1 and N.\n",
        "# Limitations: N <= 10^25; Execution time: 0.1 seconds.\n",
        "\n",
        "import time\n",
        "\n",
        "# set limitations\n",
        "MAX_EXECUTION_TIME = 0.1\n",
        "MAX_N = 10**25\n",
        "\n",
        "def calculate_sum(N):\n",
        "    start_time = time.time()\n",
        "    total_sum = N * (N+1) // 2\n",
        "    end_time = time.time()\n",
        "    execution_time = end_time - start_time\n",
        "    if execution_time > MAX_EXECUTION_TIME:\n",
        "        raise Exception(\"Execution time exceeded limit\")\n",
        "    if N > MAX_N:\n",
        "        raise ValueError(\"Input value of N exceeds maximum limit\")\n",
        "    return total_sum\n",
        "try:\n",
        "    N = int(input(\"Enter the value of N: \"))\n",
        "    result = calculate_sum(N)\n",
        "    print(\"Sum of numbers from 1 to\", N, \"is\", result)\n",
        "except ValueError as e:\n",
        "    print(\"Invalid input value:\", e)\n",
        "except Exception as e:\n",
        "    print(\"Error:\", e)"
      ]
    },
    {
      "cell_type": "code",
      "execution_count": 28,
      "id": "4462b5a0",
      "metadata": {
        "colab": {
          "base_uri": "https://localhost:8080/"
        },
        "id": "4462b5a0",
        "outputId": "70ac4dfb-ae06-45f8-ddca-5ddf86db27d4"
      },
      "outputs": [
        {
          "output_type": "stream",
          "name": "stdout",
          "text": [
            "Enter the number of rows: 5\n",
            "Enter the number of columns: 5\n",
            "[0, 1, 1, 0, 0]\n",
            "[0, 0, 1, 1, 0]\n",
            "[0, 1, 1, 1, 0]\n",
            "[1, 1, 0, 0, 0]\n",
            "[0, 0, 0, 0, 0]\n",
            "The number of islands in the matrix is: 1\n"
          ]
        }
      ],
      "source": [
        "# Task 2\n",
        "# You have a matrix MxN that represents a map. \n",
        "# There are 2 possible states on the map: 1 - islands, 0 - ocean. \n",
        "# Your task is to calculate the number of islands in the most effective way. Please write code in Python 3.\n",
        "# Inputs: M N, Matrix\n",
        "\n",
        "\n",
        "def count_islands(matrix):\n",
        "    if not matrix:\n",
        "        return 0\n",
        "\n",
        "    rows = len(matrix)\n",
        "    cols = len(matrix[0])\n",
        "    count = 0\n",
        "\n",
        "    def dfs(row, col):\n",
        "        if row < 0 or row >= rows or col < 0 or col >= cols or matrix[row][col] != 1:\n",
        "            return\n",
        "        matrix[row][col] = -1\n",
        "        dfs(row + 1, col)\n",
        "        dfs(row - 1, col)\n",
        "        dfs(row, col + 1)\n",
        "        dfs(row, col - 1)\n",
        "\n",
        "    for i in range(rows):\n",
        "        for j in range(cols):\n",
        "            if matrix[i][j] == 1:\n",
        "                count += 1\n",
        "                dfs(i, j)\n",
        "\n",
        "    return count\n",
        "\n",
        "import random\n",
        "\n",
        "# Input the number of rows and columns\n",
        "rows = int(input(\"Enter the number of rows: \"))\n",
        "cols = int(input(\"Enter the number of columns: \"))\n",
        "\n",
        "# Generating a random matrix with values of 0s and 1s\n",
        "matrix = [[random.randint(0, 1) for _ in range(cols)] for _ in range(rows)]\n",
        "\n",
        "# Print the matrix\n",
        "for row in matrix:\n",
        "    print(row)\n",
        "num_islands = count_islands(matrix)\n",
        "print(\"The number of islands in the matrix is:\", num_islands)"
      ]
    }
  ],
  "metadata": {
    "kernelspec": {
      "display_name": "Python 3",
      "language": "python",
      "name": "python3"
    },
    "language_info": {
      "codemirror_mode": {
        "name": "ipython",
        "version": 3
      },
      "file_extension": ".py",
      "mimetype": "text/x-python",
      "name": "python",
      "nbconvert_exporter": "python",
      "pygments_lexer": "ipython3",
      "version": "3.8.8"
    },
    "colab": {
      "provenance": []
    }
  },
  "nbformat": 4,
  "nbformat_minor": 5
}